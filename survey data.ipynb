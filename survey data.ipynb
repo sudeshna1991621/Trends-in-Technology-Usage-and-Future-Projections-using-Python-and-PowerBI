{
 "cells": [
  {
   "cell_type": "code",
   "execution_count": 1,
   "id": "4a05dec6-0896-4484-8fec-0c5844e07df4",
   "metadata": {},
   "outputs": [],
   "source": [
    "import pandas as pd\n",
    "import numpy as np"
   ]
  },
  {
   "cell_type": "code",
   "execution_count": 2,
   "id": "c913eff1-9899-4ec0-b141-15f37b1debb0",
   "metadata": {},
   "outputs": [],
   "source": [
    "df=pd.read_csv('survey_data_updated 5.csv')"
   ]
  },
  {
   "cell_type": "code",
   "execution_count": 5,
   "id": "78123f9e-28a0-4db2-b9bb-f9cf586d0aeb",
   "metadata": {},
   "outputs": [
    {
     "name": "stdout",
     "output_type": "stream",
     "text": [
      "['ResponseId' 'MainBranch' 'Age' 'Employment' 'RemoteWork' 'Check'\n",
      " 'CodingActivities' 'EdLevel' 'LearnCode' 'LearnCodeOnline' 'TechDoc'\n",
      " 'YearsCode' 'YearsCodePro' 'DevType' 'OrgSize' 'PurchaseInfluence'\n",
      " 'BuyNewTool' 'BuildvsBuy' 'TechEndorse' 'Country' 'Currency' 'CompTotal'\n",
      " 'LanguageHaveWorkedWith' 'LanguageWantToWorkWith' 'LanguageAdmired'\n",
      " 'DatabaseHaveWorkedWith' 'DatabaseWantToWorkWith' 'DatabaseAdmired'\n",
      " 'PlatformHaveWorkedWith' 'PlatformWantToWorkWith' 'PlatformAdmired'\n",
      " 'WebframeHaveWorkedWith' 'WebframeWantToWorkWith' 'WebframeAdmired'\n",
      " 'EmbeddedHaveWorkedWith' 'EmbeddedWantToWorkWith' 'EmbeddedAdmired'\n",
      " 'MiscTechHaveWorkedWith' 'MiscTechWantToWorkWith' 'MiscTechAdmired'\n",
      " 'ToolsTechHaveWorkedWith' 'ToolsTechWantToWorkWith' 'ToolsTechAdmired'\n",
      " 'NEWCollabToolsHaveWorkedWith' 'NEWCollabToolsWantToWorkWith'\n",
      " 'NEWCollabToolsAdmired' 'OpSysPersonal use' 'OpSysProfessional use'\n",
      " 'OfficeStackAsyncHaveWorkedWith' 'OfficeStackAsyncWantToWorkWith'\n",
      " 'OfficeStackAsyncAdmired' 'OfficeStackSyncHaveWorkedWith'\n",
      " 'OfficeStackSyncWantToWorkWith' 'OfficeStackSyncAdmired'\n",
      " 'AISearchDevHaveWorkedWith' 'AISearchDevWantToWorkWith'\n",
      " 'AISearchDevAdmired' 'NEWSOSites' 'SOVisitFreq' 'SOAccount' 'SOPartFreq'\n",
      " 'SOHow' 'SOComm' 'AISelect' 'AISent' 'AIBen' 'AIAcc' 'AIComplex'\n",
      " 'AIToolCurrently Using' 'AIToolInterested in Using'\n",
      " 'AIToolNot interested in Using' 'AINextMuch more integrated'\n",
      " 'AINextNo change' 'AINextMore integrated' 'AINextLess integrated'\n",
      " 'AINextMuch less integrated' 'AIThreat' 'AIEthics' 'AIChallenges'\n",
      " 'TBranch' 'ICorPM' 'WorkExp' 'Knowledge_1' 'Knowledge_2' 'Knowledge_3'\n",
      " 'Knowledge_4' 'Knowledge_5' 'Knowledge_6' 'Knowledge_7' 'Knowledge_8'\n",
      " 'Knowledge_9' 'Frequency_1' 'Frequency_2' 'Frequency_3' 'TimeSearching'\n",
      " 'TimeAnswering' 'Frustration' 'ProfessionalTech' 'ProfessionalCloud'\n",
      " 'ProfessionalQuestion' 'Industry' 'JobSatPoints_1' 'JobSatPoints_4'\n",
      " 'JobSatPoints_5' 'JobSatPoints_6' 'JobSatPoints_7' 'JobSatPoints_8'\n",
      " 'JobSatPoints_9' 'JobSatPoints_10' 'JobSatPoints_11' 'SurveyLength'\n",
      " 'SurveyEase' 'ConvertedCompYearly' 'JobSat']\n"
     ]
    }
   ],
   "source": [
    "print(np.array(df.columns))"
   ]
  },
  {
   "cell_type": "code",
   "execution_count": 7,
   "id": "c6de0742-a686-4ff4-86bd-42c1932226c5",
   "metadata": {},
   "outputs": [],
   "source": [
    "df=df[[\"ResponseId\",'LanguageHaveWorkedWith']]"
   ]
  },
  {
   "cell_type": "code",
   "execution_count": 9,
   "id": "9c248bc1-8106-400e-bada-8b01544ab84e",
   "metadata": {},
   "outputs": [
    {
     "data": {
      "text/html": [
       "<div>\n",
       "<style scoped>\n",
       "    .dataframe tbody tr th:only-of-type {\n",
       "        vertical-align: middle;\n",
       "    }\n",
       "\n",
       "    .dataframe tbody tr th {\n",
       "        vertical-align: top;\n",
       "    }\n",
       "\n",
       "    .dataframe thead th {\n",
       "        text-align: right;\n",
       "    }\n",
       "</style>\n",
       "<table border=\"1\" class=\"dataframe\">\n",
       "  <thead>\n",
       "    <tr style=\"text-align: right;\">\n",
       "      <th></th>\n",
       "      <th>ResponseId</th>\n",
       "      <th>LanguageHaveWorkedWith</th>\n",
       "    </tr>\n",
       "  </thead>\n",
       "  <tbody>\n",
       "    <tr>\n",
       "      <th>0</th>\n",
       "      <td>2</td>\n",
       "      <td>Bash/Shell (all shells);Go;HTML/CSS;Java;JavaS...</td>\n",
       "    </tr>\n",
       "    <tr>\n",
       "      <th>1</th>\n",
       "      <td>3</td>\n",
       "      <td>C#</td>\n",
       "    </tr>\n",
       "    <tr>\n",
       "      <th>2</th>\n",
       "      <td>10</td>\n",
       "      <td>HTML/CSS;JavaScript;TypeScript</td>\n",
       "    </tr>\n",
       "    <tr>\n",
       "      <th>3</th>\n",
       "      <td>11</td>\n",
       "      <td>JavaScript;Python;Ruby</td>\n",
       "    </tr>\n",
       "    <tr>\n",
       "      <th>4</th>\n",
       "      <td>12</td>\n",
       "      <td>C;C#;C++;Delphi;HTML/CSS;Java;JavaScript;Power...</td>\n",
       "    </tr>\n",
       "    <tr>\n",
       "      <th>...</th>\n",
       "      <td>...</td>\n",
       "      <td>...</td>\n",
       "    </tr>\n",
       "    <tr>\n",
       "      <th>18840</th>\n",
       "      <td>65307</td>\n",
       "      <td>Go;HTML/CSS;JavaScript;Python;TypeScript</td>\n",
       "    </tr>\n",
       "    <tr>\n",
       "      <th>18841</th>\n",
       "      <td>65327</td>\n",
       "      <td>Bash/Shell (all shells);HTML/CSS;Java;JavaScri...</td>\n",
       "    </tr>\n",
       "    <tr>\n",
       "      <th>18842</th>\n",
       "      <td>65352</td>\n",
       "      <td>Bash/Shell (all shells);C;C++;HTML/CSS;Java;Ja...</td>\n",
       "    </tr>\n",
       "    <tr>\n",
       "      <th>18843</th>\n",
       "      <td>65402</td>\n",
       "      <td>C#;HTML/CSS;JavaScript;SQL;TypeScript</td>\n",
       "    </tr>\n",
       "    <tr>\n",
       "      <th>18844</th>\n",
       "      <td>65432</td>\n",
       "      <td>Bash/Shell (all shells);C;C#;C++;Delphi;Groovy...</td>\n",
       "    </tr>\n",
       "  </tbody>\n",
       "</table>\n",
       "<p>18845 rows × 2 columns</p>\n",
       "</div>"
      ],
      "text/plain": [
       "       ResponseId                             LanguageHaveWorkedWith\n",
       "0               2  Bash/Shell (all shells);Go;HTML/CSS;Java;JavaS...\n",
       "1               3                                                 C#\n",
       "2              10                     HTML/CSS;JavaScript;TypeScript\n",
       "3              11                             JavaScript;Python;Ruby\n",
       "4              12  C;C#;C++;Delphi;HTML/CSS;Java;JavaScript;Power...\n",
       "...           ...                                                ...\n",
       "18840       65307           Go;HTML/CSS;JavaScript;Python;TypeScript\n",
       "18841       65327  Bash/Shell (all shells);HTML/CSS;Java;JavaScri...\n",
       "18842       65352  Bash/Shell (all shells);C;C++;HTML/CSS;Java;Ja...\n",
       "18843       65402              C#;HTML/CSS;JavaScript;SQL;TypeScript\n",
       "18844       65432  Bash/Shell (all shells);C;C#;C++;Delphi;Groovy...\n",
       "\n",
       "[18845 rows x 2 columns]"
      ]
     },
     "execution_count": 9,
     "metadata": {},
     "output_type": "execute_result"
    }
   ],
   "source": [
    "df"
   ]
  },
  {
   "cell_type": "code",
   "execution_count": 11,
   "id": "1541114a-3a89-4c84-befd-7dbad925b2c4",
   "metadata": {},
   "outputs": [
    {
     "name": "stdout",
     "output_type": "stream",
     "text": [
      "        ResponseId                 Language\n",
      "0                2  Bash/Shell (all shells)\n",
      "1                2                       Go\n",
      "2                2                 HTML/CSS\n",
      "3                2                     Java\n",
      "4                2               JavaScript\n",
      "...            ...                      ...\n",
      "116552       65432               PowerShell\n",
      "116553       65432                   Python\n",
      "116554       65432                      SQL\n",
      "116555       65432                    Swift\n",
      "116556       65432               TypeScript\n",
      "\n",
      "[116557 rows x 2 columns]\n"
     ]
    }
   ],
   "source": [
    "# Split 'LanguageHaveWorkedWith' by semicolon and create new rows for each language\n",
    "unpivoted_df = df.set_index('ResponseId')['LanguageHaveWorkedWith'].str.split(';', expand=True).stack().reset_index(name='Language')\n",
    "\n",
    "# Rename columns for clarity\n",
    "unpivoted_df.columns = ['ResponseId', 'LanguageIndex', 'Language']\n",
    "\n",
    "# Drop the 'LanguageIndex' column\n",
    "unpivoted_df = unpivoted_df.drop(columns=['LanguageIndex'])\n",
    "\n",
    "# Resulting unpivoted dataframe\n",
    "print(unpivoted_df)"
   ]
  },
  {
   "cell_type": "code",
   "execution_count": 13,
   "id": "c3508b6a-5771-475d-aba2-b506242c2eb0",
   "metadata": {},
   "outputs": [
    {
     "name": "stdout",
     "output_type": "stream",
     "text": [
      "                   Language  ResponseId\n",
      "22               JavaScript       14943\n",
      "40                      SQL       12602\n",
      "19                 HTML/CSS       12410\n",
      "44               TypeScript       10709\n",
      "36                   Python        9590\n",
      "3   Bash/Shell (all shells)        7244\n",
      "5                        C#        6340\n",
      "21                     Java        5982\n",
      "32                      PHP        4644\n",
      "34               PowerShell        3438\n",
      "17                       Go        3305\n",
      "6                       C++        3081\n",
      "4                         C        2777\n",
      "39                     Rust        2284\n",
      "24                   Kotlin        1958\n",
      "38                     Ruby        1500\n",
      "10                     Dart        1390\n",
      "26                      Lua        1160\n",
      "46      Visual Basic (.Net)         957\n",
      "43                    Swift         898\n",
      "18                   Groovy         756\n",
      "37                        R         711\n",
      "45                      VBA         710\n",
      "2                  Assembly         685\n",
      "12                   Elixir         673\n",
      "27                   MATLAB         592\n",
      "41                    Scala         507\n",
      "33                     Perl         463\n",
      "31              Objective-C         390\n",
      "16                 GDScript         387\n",
      "11                   Delphi         349\n",
      "42                 Solidity         302\n",
      "20                  Haskell         300\n",
      "28              MicroPython         285\n",
      "13                   Erlang         251\n",
      "7                   Clojure         245\n",
      "25                     Lisp         237\n",
      "14                       F#         194\n",
      "48                      Zig         187\n",
      "1                      Apex         176\n",
      "35                   Prolog         151\n",
      "23                    Julia         143\n",
      "15                  Fortran         141\n",
      "8                     Cobol         122\n",
      "0                       Ada         107\n",
      "30                    OCaml         105\n",
      "9                   Crystal          83\n",
      "29                      Nim          54\n",
      "47                   Zephyr          39\n"
     ]
    }
   ],
   "source": [
    "\n",
    "# Count the number of responses per language\n",
    "language_count = unpivoted_df.groupby('Language')['ResponseId'].nunique().reset_index()\n",
    "\n",
    "# Sort the data to find the most common languages\n",
    "language_count_sorted = language_count.sort_values(by='ResponseId', ascending=False)\n",
    "\n",
    "# Display the top languages\n",
    "print(language_count_sorted)"
   ]
  },
  {
   "cell_type": "code",
   "execution_count": 15,
   "id": "ada26454-acd8-4782-91de-b01b3146e524",
   "metadata": {},
   "outputs": [],
   "source": [
    "language_count_sorted.to_csv(\"LanguageHaveWorkedWith1.csv\")"
   ]
  },
  {
   "cell_type": "code",
   "execution_count": 41,
   "id": "ae8fd83c-cdbe-4360-83e1-f46cadb1e46b",
   "metadata": {
    "scrolled": true
   },
   "outputs": [
    {
     "data": {
      "text/html": [
       "<div>\n",
       "<style scoped>\n",
       "    .dataframe tbody tr th:only-of-type {\n",
       "        vertical-align: middle;\n",
       "    }\n",
       "\n",
       "    .dataframe tbody tr th {\n",
       "        vertical-align: top;\n",
       "    }\n",
       "\n",
       "    .dataframe thead th {\n",
       "        text-align: right;\n",
       "    }\n",
       "</style>\n",
       "<table border=\"1\" class=\"dataframe\">\n",
       "  <thead>\n",
       "    <tr style=\"text-align: right;\">\n",
       "      <th></th>\n",
       "      <th>Language</th>\n",
       "      <th>ResponseId</th>\n",
       "    </tr>\n",
       "  </thead>\n",
       "  <tbody>\n",
       "    <tr>\n",
       "      <th>22</th>\n",
       "      <td>JavaScript</td>\n",
       "      <td>14943</td>\n",
       "    </tr>\n",
       "    <tr>\n",
       "      <th>40</th>\n",
       "      <td>SQL</td>\n",
       "      <td>12602</td>\n",
       "    </tr>\n",
       "    <tr>\n",
       "      <th>19</th>\n",
       "      <td>HTML/CSS</td>\n",
       "      <td>12410</td>\n",
       "    </tr>\n",
       "    <tr>\n",
       "      <th>44</th>\n",
       "      <td>TypeScript</td>\n",
       "      <td>10709</td>\n",
       "    </tr>\n",
       "    <tr>\n",
       "      <th>36</th>\n",
       "      <td>Python</td>\n",
       "      <td>9590</td>\n",
       "    </tr>\n",
       "    <tr>\n",
       "      <th>3</th>\n",
       "      <td>Bash/Shell (all shells)</td>\n",
       "      <td>7244</td>\n",
       "    </tr>\n",
       "    <tr>\n",
       "      <th>5</th>\n",
       "      <td>C#</td>\n",
       "      <td>6340</td>\n",
       "    </tr>\n",
       "    <tr>\n",
       "      <th>21</th>\n",
       "      <td>Java</td>\n",
       "      <td>5982</td>\n",
       "    </tr>\n",
       "    <tr>\n",
       "      <th>32</th>\n",
       "      <td>PHP</td>\n",
       "      <td>4644</td>\n",
       "    </tr>\n",
       "    <tr>\n",
       "      <th>34</th>\n",
       "      <td>PowerShell</td>\n",
       "      <td>3438</td>\n",
       "    </tr>\n",
       "  </tbody>\n",
       "</table>\n",
       "</div>"
      ],
      "text/plain": [
       "                   Language  ResponseId\n",
       "22               JavaScript       14943\n",
       "40                      SQL       12602\n",
       "19                 HTML/CSS       12410\n",
       "44               TypeScript       10709\n",
       "36                   Python        9590\n",
       "3   Bash/Shell (all shells)        7244\n",
       "5                        C#        6340\n",
       "21                     Java        5982\n",
       "32                      PHP        4644\n",
       "34               PowerShell        3438"
      ]
     },
     "execution_count": 41,
     "metadata": {},
     "output_type": "execute_result"
    }
   ],
   "source": [
    "top10_lang=pd.DataFrame(language_count_sorted.head(10))\n",
    "top10_lang"
   ]
  },
  {
   "cell_type": "code",
   "execution_count": 47,
   "id": "434b7830-8e9e-4d6b-91cb-edc035ed39ee",
   "metadata": {},
   "outputs": [
    {
     "data": {
      "image/png": "[encoded data removed]",
      "text/plain": [
       "<Figure size 1000x600 with 1 Axes>"
      ]
     },
     "metadata": {},
     "output_type": "display_data"
    }
   ],
   "source": [
    "import matplotlib.pyplot as plt\n",
    "%matplotlib inline\n",
    "# Create the bar chart\n",
    "plt.figure(figsize=(10, 6))\n",
    "bars = plt.bar(top10_lang['Language'], top10_lang['ResponseId'], color='skyblue')\n",
    "\n",
    "# Add title and labels\n",
    "plt.title('Programming Languages vs ResponseId Count', fontsize=14)\n",
    "plt.xlabel('Language', fontsize=12)\n",
    "plt.ylabel('ResponseId Count', fontsize=12)\n",
    "\n",
    "# Rotate x-axis labels for readability\n",
    "plt.xticks(rotation=45, ha='right')\n",
    "\n",
    "# Add annotations above each bar\n",
    "for bar in bars:\n",
    "    height = bar.get_height()\n",
    "    plt.text(bar.get_x() + bar.get_width() / 2, height + 200, str(height), \n",
    "             ha='center', va='bottom', fontsize=10)\n",
    "\n",
    "# Show the plot\n",
    "plt.tight_layout()\n",
    "plt.show()"
   ]
  },
  {
   "cell_type": "code",
   "execution_count": null,
   "id": "6af2915e-b6c8-46eb-9654-c0354a70e659",
   "metadata": {},
   "outputs": [],
   "source": []
  },
  {
   "cell_type": "code",
   "execution_count": 31,
   "id": "4be35dd2-0c8e-4bbf-b4b6-d3d267022fba",
   "metadata": {},
   "outputs": [
    {
     "name": "stdout",
     "output_type": "stream",
     "text": [
      "        ResponseId                 Language\n",
      "0                2  Bash/Shell (all shells)\n",
      "1                2                       Go\n",
      "2                2                 HTML/CSS\n",
      "3                2                     Java\n",
      "4                2               JavaScript\n",
      "...            ...                      ...\n",
      "106351       65432                   Python\n",
      "106352       65432                     Rust\n",
      "106353       65432                      SQL\n",
      "106354       65432                    Swift\n",
      "106355       65432               TypeScript\n",
      "\n",
      "[106356 rows x 2 columns]\n"
     ]
    }
   ],
   "source": [
    "df = pd.read_csv('survey_data_updated 5.csv')\n",
    "\n",
    "# Split 'LanguageWantToWorkWith' by semicolon and create new rows for each language\n",
    "unpivoted_df_want_to_work = df.set_index('ResponseId')['LanguageWantToWorkWith'].str.split(';', expand=True).stack().reset_index(name='Language')\n",
    "\n",
    "# Rename columns for clarity\n",
    "unpivoted_df_want_to_work.columns = ['ResponseId', 'LanguageIndex', 'Language']\n",
    "\n",
    "# Drop the 'LanguageIndex' column\n",
    "unpivoted_df_want_to_work = unpivoted_df_want_to_work.drop(columns=['LanguageIndex'])\n",
    "\n",
    "# Resulting unpivoted dataframe\n",
    "print(unpivoted_df_want_to_work)"
   ]
  },
  {
   "cell_type": "code",
   "execution_count": 33,
   "id": "32bc2551-cb8b-4cb5-bb3e-0163adff8bb9",
   "metadata": {},
   "outputs": [],
   "source": [
    "unpivoted_df_want_to_work.to_csv('LanguageWantToWorkWith.csv')"
   ]
  },
  {
   "cell_type": "code",
   "execution_count": 35,
   "id": "eb57bf4b-0831-4950-97e1-d1d2dee9ceb3",
   "metadata": {},
   "outputs": [
    {
     "name": "stdout",
     "output_type": "stream",
     "text": [
      "       ResponseId                    Database\n",
      "0               2                    Dynamodb\n",
      "1               2                     MongoDB\n",
      "2               2                  PostgreSQL\n",
      "3               3  Firebase Realtime Database\n",
      "4              10                     MongoDB\n",
      "...           ...                         ...\n",
      "69581       65432        Microsoft SQL Server\n",
      "69582       65432                       MySQL\n",
      "69583       65432                      Oracle\n",
      "69584       65432                  PostgreSQL\n",
      "69585       65432                      SQLite\n",
      "\n",
      "[69586 rows x 2 columns]\n"
     ]
    }
   ],
   "source": [
    "df = pd.read_csv('survey_data_updated 5.csv')\n",
    "# Split 'DatabaseHaveWorkedWith' by semicolon and create new rows for each database\n",
    "unpivoted_df_db_have_worked = df.set_index('ResponseId')['DatabaseHaveWorkedWith'].str.split(';', expand=True).stack().reset_index(name='Database')\n",
    "\n",
    "# Rename columns for clarity\n",
    "unpivoted_df_db_have_worked.columns = ['ResponseId', 'DatabaseIndex', 'Database']\n",
    "\n",
    "# Drop the 'DatabaseIndex' column\n",
    "unpivoted_df_db_have_worked = unpivoted_df_db_have_worked.drop(columns=['DatabaseIndex'])\n",
    "\n",
    "# Resulting unpivoted dataframe\n",
    "print(unpivoted_df_db_have_worked)"
   ]
  },
  {
   "cell_type": "code",
   "execution_count": 37,
   "id": "f78985ce-c311-40f5-84af-79a5584a3885",
   "metadata": {},
   "outputs": [],
   "source": [
    "unpivoted_df_db_have_worked.to_csv('DatabaseHaveWorkedWith.csv')"
   ]
  },
  {
   "cell_type": "code",
   "execution_count": 39,
   "id": "4525a614-bf1b-4563-a5c6-9fa38208cda7",
   "metadata": {},
   "outputs": [
    {
     "name": "stdout",
     "output_type": "stream",
     "text": [
      "       ResponseId                    Database\n",
      "0               2                  PostgreSQL\n",
      "1               3  Firebase Realtime Database\n",
      "2              10                     MongoDB\n",
      "3              10                       MySQL\n",
      "4              10                  PostgreSQL\n",
      "...           ...                         ...\n",
      "65908       65402                    Couch DB\n",
      "65909       65402               Elasticsearch\n",
      "65910       65432               Elasticsearch\n",
      "65911       65432                  PostgreSQL\n",
      "65912       65432                       Redis\n",
      "\n",
      "[65913 rows x 2 columns]\n"
     ]
    }
   ],
   "source": [
    "df = pd.read_csv('survey_data_updated 5.csv')\n",
    "# Split 'DatabaseWantToWorkWith' by semicolon and create new rows for each database\n",
    "unpivoted_df_db_want_to_work = df.set_index('ResponseId')['DatabaseWantToWorkWith'].str.split(';', expand=True).stack().reset_index(name='Database')\n",
    "\n",
    "# Rename columns for clarity\n",
    "unpivoted_df_db_want_to_work.columns = ['ResponseId', 'DatabaseIndex', 'Database']\n",
    "\n",
    "# Drop the 'DatabaseIndex' column\n",
    "unpivoted_df_db_want_to_work = unpivoted_df_db_want_to_work.drop(columns=['DatabaseIndex'])\n",
    "\n",
    "# Resulting unpivoted dataframe\n",
    "print(unpivoted_df_db_want_to_work)\n"
   ]
  },
  {
   "cell_type": "code",
   "execution_count": 41,
   "id": "fe9e26de-b24b-45ec-acbc-11f519cbeb2e",
   "metadata": {},
   "outputs": [],
   "source": [
    "unpivoted_df_db_want_to_work.to_csv('DatabaseWantToWorkWith.csv')\n"
   ]
  },
  {
   "cell_type": "code",
   "execution_count": 43,
   "id": "a09a44ec-5484-493d-88dd-57ada0c4f79c",
   "metadata": {},
   "outputs": [
    {
     "name": "stdout",
     "output_type": "stream",
     "text": [
      "       ResponseId                   Platform\n",
      "0               2  Amazon Web Services (AWS)\n",
      "1               2                     Heroku\n",
      "2               2                    Netlify\n",
      "3               3               Google Cloud\n",
      "4              10  Amazon Web Services (AWS)\n",
      "...           ...                        ...\n",
      "50650       65327  Amazon Web Services (AWS)\n",
      "50651       65327                  OpenStack\n",
      "50652       65352                        OVH\n",
      "50653       65402            Microsoft Azure\n",
      "50654       65432            Microsoft Azure\n",
      "\n",
      "[50655 rows x 2 columns]\n"
     ]
    }
   ],
   "source": [
    "unpivoted_df_platform_have_worked = df.set_index('ResponseId')['PlatformHaveWorkedWith'].str.split(';', expand=True).stack().reset_index(name='Platform')\n",
    "\n",
    "# Rename columns for clarity\n",
    "unpivoted_df_platform_have_worked.columns = ['ResponseId', 'PlatformIndex', 'Platform']\n",
    "\n",
    "# Drop the 'PlatformIndex' column\n",
    "unpivoted_df_platform_have_worked = unpivoted_df_platform_have_worked.drop(columns=['PlatformIndex'])\n",
    "\n",
    "# Resulting unpivoted dataframe\n",
    "print(unpivoted_df_platform_have_worked)"
   ]
  },
  {
   "cell_type": "code",
   "execution_count": 45,
   "id": "d45c770e-3a51-4f81-91bd-3d7a987750a9",
   "metadata": {},
   "outputs": [],
   "source": [
    "unpivoted_df_platform_have_worked.to_csv(\"PlatformHaveWorkedWith.csv\")"
   ]
  },
  {
   "cell_type": "code",
   "execution_count": 47,
   "id": "2253b957-4e61-45f8-a7a0-a245e02ee1fb",
   "metadata": {},
   "outputs": [
    {
     "name": "stdout",
     "output_type": "stream",
     "text": [
      "       ResponseId                   Platform\n",
      "0               2  Amazon Web Services (AWS)\n",
      "1               2                     Heroku\n",
      "2               2                    Netlify\n",
      "3               3               Google Cloud\n",
      "4              10  Amazon Web Services (AWS)\n",
      "...           ...                        ...\n",
      "48405       65352                     Vercel\n",
      "48406       65402            Microsoft Azure\n",
      "48407       65432  Amazon Web Services (AWS)\n",
      "48408       65432                   Firebase\n",
      "48409       65432            Microsoft Azure\n",
      "\n",
      "[48410 rows x 2 columns]\n"
     ]
    }
   ],
   "source": [
    "# Split 'PlatformWantToWorkWith' by semicolon and create new rows for each platform\n",
    "unpivoted_df_platform_want_to_work = df.set_index('ResponseId')['PlatformWantToWorkWith'].str.split(';', expand=True).stack().reset_index(name='Platform')\n",
    "\n",
    "# Rename columns for clarity\n",
    "unpivoted_df_platform_want_to_work.columns = ['ResponseId', 'PlatformIndex', 'Platform']\n",
    "\n",
    "# Drop the 'PlatformIndex' column\n",
    "unpivoted_df_platform_want_to_work = unpivoted_df_platform_want_to_work.drop(columns=['PlatformIndex'])\n",
    "\n",
    "# Resulting unpivoted dataframe\n",
    "print(unpivoted_df_platform_want_to_work)"
   ]
  },
  {
   "cell_type": "code",
   "execution_count": 49,
   "id": "dfc46bc7-1ed7-429f-972f-f973919de506",
   "metadata": {},
   "outputs": [],
   "source": [
    "unpivoted_df_platform_want_to_work.to_csv(\"PlatformWantToWorkWith.csv\")"
   ]
  },
  {
   "cell_type": "code",
   "execution_count": 56,
   "id": "9646c117-32b9-4231-80be-5d7c35cc99e5",
   "metadata": {},
   "outputs": [
    {
     "name": "stdout",
     "output_type": "stream",
     "text": [
      "       ResponseId      WebFrame\n",
      "0               2       Express\n",
      "1               2       Next.js\n",
      "2               2       Node.js\n",
      "3               2         React\n",
      "4               3  ASP.NET CORE\n",
      "...           ...           ...\n",
      "77798       65432        jQuery\n",
      "77799       65432       Next.js\n",
      "77800       65432       Node.js\n",
      "77801       65432         React\n",
      "77802       65432   Spring Boot\n",
      "\n",
      "[77803 rows x 2 columns]\n"
     ]
    }
   ],
   "source": [
    "# Split 'WebFrameHaveWorkedWith' by semicolon and create new rows for each framework\n",
    "unpivoted_df_web_frame_have_worked = df.set_index('ResponseId')['WebframeHaveWorkedWith'].str.split(';', expand=True).stack().reset_index(name='WebFrame')\n",
    "\n",
    "# Rename columns for clarity\n",
    "unpivoted_df_web_frame_have_worked.columns = ['ResponseId', 'WebFrameIndex', 'WebFrame']\n",
    "\n",
    "# Drop the 'WebFrameIndex' column\n",
    "unpivoted_df_web_frame_have_worked = unpivoted_df_web_frame_have_worked.drop(columns=['WebFrameIndex'])\n",
    "\n",
    "# Resulting unpivoted dataframe\n",
    "print(unpivoted_df_web_frame_have_worked)"
   ]
  },
  {
   "cell_type": "code",
   "execution_count": 58,
   "id": "8a08571c-6b4e-4a1a-91f1-3eec024bf7f5",
   "metadata": {},
   "outputs": [],
   "source": [
    "unpivoted_df_web_frame_have_worked.to_csv('WebframeHaveWorkedWith.csv')"
   ]
  },
  {
   "cell_type": "code",
   "execution_count": 62,
   "id": "229ba7d1-173d-436c-b31a-f977bff644c1",
   "metadata": {},
   "outputs": [
    {
     "name": "stdout",
     "output_type": "stream",
     "text": [
      "       ResponseId      WebFrame\n",
      "0               2       Express\n",
      "1               2          Htmx\n",
      "2               2       Node.js\n",
      "3               2         React\n",
      "4               2         Remix\n",
      "...           ...           ...\n",
      "71412       65432       Angular\n",
      "71413       65432       ASP.NET\n",
      "71414       65432  ASP.NET CORE\n",
      "71415       65432       Node.js\n",
      "71416       65432   Spring Boot\n",
      "\n",
      "[71417 rows x 2 columns]\n"
     ]
    }
   ],
   "source": [
    "unpivoted_df_web_frame_want_to_work = df.set_index('ResponseId')['WebframeWantToWorkWith'].str.split(';', expand=True).stack().reset_index(name='WebFrame')\n",
    "\n",
    "# Rename columns for clarity\n",
    "unpivoted_df_web_frame_want_to_work.columns = ['ResponseId', 'WebFrameIndex', 'WebFrame']\n",
    "\n",
    "# Drop the 'WebFrameIndex' column\n",
    "unpivoted_df_web_frame_want_to_work = unpivoted_df_web_frame_want_to_work.drop(columns=['WebFrameIndex'])\n",
    "\n",
    "# Resulting unpivoted dataframe\n",
    "print(unpivoted_df_web_frame_want_to_work)"
   ]
  },
  {
   "cell_type": "code",
   "execution_count": 64,
   "id": "970ab9b8-509d-415d-841d-9630d1164c88",
   "metadata": {},
   "outputs": [],
   "source": [
    "unpivoted_df_web_frame_want_to_work.to_csv(\"WebframeWantToWorkWith.csv\")"
   ]
  },
  {
   "cell_type": "code",
   "execution_count": 68,
   "id": "07d9cbec-5cc9-4e00-afd5-0d83fe135782",
   "metadata": {},
   "outputs": [
    {
     "name": "stdout",
     "output_type": "stream",
     "text": [
      "                   Language  ResponseId\n",
      "22               JavaScript       11541\n",
      "40                      SQL       10944\n",
      "44               TypeScript       10437\n",
      "19                 HTML/CSS       10016\n",
      "36                   Python        8919\n",
      "17                       Go        5661\n",
      "39                     Rust        5597\n",
      "5                        C#        5590\n",
      "3   Bash/Shell (all shells)        5582\n",
      "21                     Java        4048\n"
     ]
    }
   ],
   "source": [
    "# Count the number of responses per language\n",
    "language_count = unpivoted_df_want_to_work.groupby('Language')['ResponseId'].nunique().reset_index()\n",
    "\n",
    "# Sort the data to find the most common languages\n",
    "language_count_sorted = language_count.sort_values(by='ResponseId', ascending=False)\n",
    "\n",
    "# Display the top languages\n",
    "print(language_count_sorted.head(10))"
   ]
  },
  {
   "cell_type": "code",
   "execution_count": 72,
   "id": "20ca3046-669d-47b7-9e14-ae298c5bf6a9",
   "metadata": {},
   "outputs": [
    {
     "name": "stdout",
     "output_type": "stream",
     "text": [
      "                Database  ResponseId\n",
      "26            PostgreSQL       11514\n",
      "23                 MySQL        8556\n",
      "30                SQLite        7021\n",
      "22               MongoDB        5930\n",
      "21  Microsoft SQL Server        5870\n",
      "29                 Redis        5814\n",
      "19               MariaDB        3994\n",
      "12         Elasticsearch        3491\n",
      "11              Dynamodb        2268\n",
      "25                Oracle        1907\n"
     ]
    }
   ],
   "source": [
    "# Count the number of responses per language\n",
    "language_count = unpivoted_df_db_have_worked.groupby('Database')['ResponseId'].nunique().reset_index()\n",
    "\n",
    "# Sort the data to find the most common languages\n",
    "language_count_sorted = language_count.sort_values(by='ResponseId', ascending=False)\n",
    "\n",
    "# Display the top languages\n",
    "print(language_count_sorted.head(10))"
   ]
  },
  {
   "cell_type": "code",
   "execution_count": 74,
   "id": "bc8d36c7-d60d-4ab2-90dd-d7b6f528822b",
   "metadata": {},
   "outputs": [
    {
     "name": "stdout",
     "output_type": "stream",
     "text": [
      "                Database  ResponseId\n",
      "26            PostgreSQL       12193\n",
      "29                 Redis        6384\n",
      "30                SQLite        6295\n",
      "23                 MySQL        6204\n",
      "22               MongoDB        5618\n",
      "21  Microsoft SQL Server        4345\n",
      "12         Elasticsearch        3665\n",
      "19               MariaDB        3078\n",
      "11              Dynamodb        2154\n",
      "33              Supabase        1623\n"
     ]
    }
   ],
   "source": [
    "\n",
    "\n",
    "# Count the number of responses per language\n",
    "language_count = unpivoted_df_db_want_to_work.groupby('Database')['ResponseId'].nunique().reset_index()\n",
    "\n",
    "# Sort the data to find the most common languages\n",
    "language_count_sorted = language_count.sort_values(by='ResponseId', ascending=False)\n",
    "\n",
    "# Display the top languages\n",
    "print(language_count_sorted.head(10))"
   ]
  },
  {
   "cell_type": "code",
   "execution_count": 80,
   "id": "8c31e1d4-9065-4ee2-8343-daf25c322d78",
   "metadata": {},
   "outputs": [
    {
     "name": "stdout",
     "output_type": "stream",
     "text": [
      "[1, 4, 9, 16, 25]\n"
     ]
    }
   ],
   "source": [
    "numbers = [1, 2, 3, 4, 5]\n",
    "squared_numbers = map(lambda x: x**2, numbers)\n",
    "\n",
    "# Converting map object to list\n",
    "print(list(squared_numbers)) "
   ]
  },
  {
   "cell_type": "code",
   "execution_count": null,
   "id": "6bcae628-adf7-4bc2-b939-d962c2ed3fc1",
   "metadata": {},
   "outputs": [],
   "source": []
  }
 ],
 "metadata": {
  "kernelspec": {
   "display_name": "Python 3 (ipykernel)",
   "language": "python",
   "name": "python3"
  },
  "language_info": {
   "codemirror_mode": {
    "name": "ipython",
    "version": 3
   },
   "file_extension": ".py",
   "mimetype": "text/x-python",
   "name": "python",
   "nbconvert_exporter": "python",
   "pygments_lexer": "ipython3",
   "version": "3.12.4"
  }
 },
 "nbformat": 4,
 "nbformat_minor": 5
}
